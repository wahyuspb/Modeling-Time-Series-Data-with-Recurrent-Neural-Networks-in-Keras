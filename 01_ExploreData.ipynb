{
 "cells": [
  {
   "cell_type": "markdown",
   "metadata": {},
   "source": [
    "<a href=\"https://www.nvidia.com/dli\"> <img src=\"images/DLI Header.png\" alt=\"Header\" style=\"width: 400px;\"/> </a>"
   ]
  },
  {
   "cell_type": "markdown",
   "metadata": {},
   "source": [
    "# 1. Explore the Data with *pandas*\n",
    "<hr>"
   ]
  },
  {
   "cell_type": "markdown",
   "metadata": {},
   "source": [
    "Electronic Health Records (EHRs) contain a wealth of patient medical information that can:\n",
    "* Save valuable time when an emergency arises\n",
    "* Eliminate unnecesary treatment and tests\n",
    "* Prevent potentially life-threatening mistakes\n",
    "* Improve the overall quality of care a patient receives when seeking medical assistance\n",
    "\n",
    "Children's Hospital Los Angeles (CHLA) wanted to know if the records could be mined to yield early warning signs of patients that may require extra care or an indication of the severity of a patient's illness.  In this lab we have access to the work and results of CHLA's applied use of deep neural networks on EHRs belonging to roughly 5,000 pediatric ICU patients.\n",
    "\n",
    "We will start by exploring the data using the python library [*pandas*](http://pandas.pydata.org) to manage the dataset provided in [HDF5](https://en.wikipedia.org/wiki/Hierarchical_Data_Format) format."
   ]
  },
  {
   "cell_type": "markdown",
   "metadata": {},
   "source": [
    "1.1 [**Set Up the Environment**](#01_setup)<br>\n",
    "1.2 [**Load the Data with *pandas***](#01_pandas)<br>\n",
    "1.3 [**Visualize the Data**](#01_explore)<br>\n",
    "&nbsp; &nbsp; &nbsp;1.3.1 [Example: View Data from a Single Encounter](#01_single)<br>\n",
    "&nbsp; &nbsp; &nbsp;1.3.2 [Exercise: Observation Count Histogram](#01_ex_nobs)<br>\n",
    "&nbsp; &nbsp; &nbsp;1.3.3 [Exercise: Length of PICU Stay Histogram](#01_ex_time)<br>\n",
    "1.4 [**Save a *pandas* DataFrame**](#01_save)<br>\n",
    "[**Solutions**](#01_solutions)<br>"
   ]
  },
  {
   "cell_type": "markdown",
   "metadata": {},
   "source": [
    "<a name=\"01_setup\"></a>\n",
    "## 1.1 Set Up the Environment"
   ]
  },
  {
   "cell_type": "markdown",
   "metadata": {},
   "source": [
    "First, import the libraries we need into our Python workspace.  We need *os* for access to the file system,  *NumPy* for fast array math, *pandas* for data management, and  *MatPlotLib* for visualization.<br>\n",
    "Execute the cell below to import these libraries and define the location of the data in the file system."
   ]
  },
  {
   "cell_type": "code",
   "execution_count": 4,
   "metadata": {},
   "outputs": [],
   "source": [
    "import os\n",
    "import numpy as np\n",
    "import pandas as pd              \n",
    "import matplotlib.pyplot as plt \n",
    "import random\n",
    "\n",
    "# Configure the notebook to display plots\n",
    "%matplotlib inline\n",
    "\n",
    "# Define the path to the data folder\n",
    "data_dir = '/dli/task/data/hx_series'"
   ]
  },
  {
   "cell_type": "markdown",
   "metadata": {},
   "source": [
    "Next, specify the file paths in the data folder which contains training and validation datasets stored in HDF5 format: inputs (X) and their associated labels (y).\n",
    "[HDF5](http://www.hdfgroup.org/) stands for \"hierarchical data format version number 5\".  The HDF format is designed specifically to store and organize large amounts of scientific data and was originally designed by the [National Center for Supercomputing Applications](https://en.wikipedia.org/wiki/National_Center_for_Supercomputing_Applications).  Common file extensions include `.hdf`, `.hdf5`, or simply `.h5`.  The HDF format has become very popular and is well maintained.  As a result, HDF5 is a flexible and robust format having API support in most languages and library compatibilty with Windows, OS X and Linux. It is important to note that HDF is a binary format and hence lacks the human readable transparency of text based CSV files.  However, HDF file format has faster performance and more efficient storage size.  It also scales well from small proof-of-concept ideas to [very large operational projects](https://www.hdfgroup.org/eos_vignette/)."
   ]
  },
  {
   "cell_type": "code",
   "execution_count": 5,
   "metadata": {},
   "outputs": [],
   "source": [
    "# training data inputs: x and targets: y\n",
    "x_train_path = os.path.join(data_dir, 'X_train.hdf')\n",
    "y_train_path = os.path.join(data_dir, 'y_train.hdf')\n",
    "\n",
    "# validation data inputs: x and targest: y\n",
    "x_valid_path = os.path.join(data_dir, 'X_test.hdf')\n",
    "y_valid_path = os.path.join(data_dir, 'y_test.hdf')"
   ]
  },
  {
   "cell_type": "markdown",
   "metadata": {},
   "source": [
    "<a name=\"01_pandas\"></a>\n",
    "## 1.2 Load the Data with <i>pandas</i>\n",
    "Finally, we load the data using the *pandas* API for reading in HDF files.  Python with pandas is used in a wide variety of academic and commercial domains, including finance, neuroscience, economics, statistics, advertising, web analytics, and more. The pandas library is an open source, BSD-licensed project providing easy-to-use data structures and analysis tools for the Python programming language. The pandas library features a fast and efficient DataFrame object for data manipulation with integrated indexing as well as tools for reading and writing data between in-memory data structures and different formats such as CSV and text files, Microsoft Excel, SQL databases, and the fast HDF5 format. Check out the [pandas documentation](http://pandas.pydata.org) for more info."
   ]
  },
  {
   "cell_type": "code",
   "execution_count": 6,
   "metadata": {},
   "outputs": [
    {
     "name": "stdout",
     "output_type": "stream",
     "text": [
      "data load complete\n"
     ]
    }
   ],
   "source": [
    "# It should take less than one minute to load the files\n",
    "X_train = pd.read_hdf(x_train_path)\n",
    "y_train = pd.read_hdf(y_train_path)\n",
    "X_valid = pd.read_hdf(x_valid_path)\n",
    "y_valid = pd.read_hdf(y_valid_path)\n",
    "print('data load complete')"
   ]
  },
  {
   "cell_type": "markdown",
   "metadata": {},
   "source": [
    "Note:  An alternative to *pandas* is [*cuDF*](https://github.com/rapidsai/cudf/tree/master), a Python GPU DataFrame library (built on the Apache Arrow columnar memory format) for loading, joining, aggregating, filtering, and otherwise manipulating data, all in a *pandas*-like API familiar to data scientists.  For larger data sets especially, this is an alternative you may wish to try for faster processing."
   ]
  },
  {
   "cell_type": "markdown",
   "metadata": {},
   "source": [
    "<a name=\"01_explore\"></a>\n",
    "## 1.3 Visualize the Data"
   ]
  },
  {
   "cell_type": "markdown",
   "metadata": {},
   "source": [
    "This electronic health records (EHR) database contains medical treatments and histories of patients collected over time. The EHRs used here consists of 10 years worth of patient encounter data in the Pediatric Intensive Care Unit (PICU) at Children's Hospital Los Angeles, curated by the virtual PICU ([vPICU](http://vpicu.net)) team. This dataset contains 1,113,529 observations among 5,000 unique patient encounters. \n",
    "\n",
    "<img style=\"float: right;\" src=\"images/ehr.svg\" width=\"450\" height=\"300\">\n",
    "This data is an irregular time series of observations consisting of varied numbers of measurements taken over the course of a patient's stay in the PICU. Time between observations can vary from minutes to hours. A simplified diagram of the data can be seen on the right. <br>\n",
    "Features (measurement types) include:\n",
    "\n",
    "* **Statics** *(e.g. gender, age, weight)*\n",
    "* **Vitals** *(e.g. heart rate, respiratory rate)*\n",
    "* **Labs** *(e.g. glucose, creatinine)*\n",
    "* **Interventions** *(e.g. intubation, O2)*\n",
    "* **Drugs** *(e.g. dopamine, epinephrine)*\n",
    "\n",
    "For a complete list of features, see [ehr_features.csv](csv/ehr_features.csv)\n",
    "\n",
    "One thing to note is that in addition to the non-uniform sampling, not all measurement types were taken for all patients.\n",
    "\n",
    "If we just have a look at the training data, it's clear that we have a collection of patient encounters with a set of variables observed at different times during each encounter.  But again, not all variables are measured at each observation time (row entry). \n",
    "\n",
    "The label (y) data for each patient encounter is the ultimate result of alive (1) or not alive (0). \n",
    "\n",
    "Let's take a look at the data."
   ]
  },
  {
   "cell_type": "code",
   "execution_count": 7,
   "metadata": {},
   "outputs": [
    {
     "data": {
      "text/html": [
       "<div>\n",
       "<style scoped>\n",
       "    .dataframe tbody tr th:only-of-type {\n",
       "        vertical-align: middle;\n",
       "    }\n",
       "\n",
       "    .dataframe tbody tr th {\n",
       "        vertical-align: top;\n",
       "    }\n",
       "\n",
       "    .dataframe thead th {\n",
       "        text-align: right;\n",
       "    }\n",
       "</style>\n",
       "<table border=\"1\" class=\"dataframe\">\n",
       "  <thead>\n",
       "    <tr style=\"text-align: right;\">\n",
       "      <th></th>\n",
       "      <th></th>\n",
       "      <th>ABG Base excess (mEq/L)</th>\n",
       "      <th>ABG FiO2</th>\n",
       "      <th>ABG HCO3 (mEq/L)</th>\n",
       "      <th>ABG O2 sat (%)</th>\n",
       "      <th>ABG PCO2 (mmHg)</th>\n",
       "      <th>ABG PO2 (mmHg)</th>\n",
       "      <th>ABG TCO2 (mEq/L)</th>\n",
       "      <th>ABG pH</th>\n",
       "      <th>ALT (SGPT) (units/L)</th>\n",
       "      <th>AST (SGOT) (units/L)</th>\n",
       "      <th>...</th>\n",
       "      <th>Vasopressin</th>\n",
       "      <th>Vecuronium</th>\n",
       "      <th>Ventilator rate (bpm)</th>\n",
       "      <th>VerbalResponse</th>\n",
       "      <th>Vitamin E</th>\n",
       "      <th>Volume Tidal</th>\n",
       "      <th>Voriconazole</th>\n",
       "      <th>Weight</th>\n",
       "      <th>White blood cell count (K/uL)</th>\n",
       "      <th>deltat</th>\n",
       "    </tr>\n",
       "    <tr>\n",
       "      <th>encounterID</th>\n",
       "      <th>absoluteTime</th>\n",
       "      <th></th>\n",
       "      <th></th>\n",
       "      <th></th>\n",
       "      <th></th>\n",
       "      <th></th>\n",
       "      <th></th>\n",
       "      <th></th>\n",
       "      <th></th>\n",
       "      <th></th>\n",
       "      <th></th>\n",
       "      <th></th>\n",
       "      <th></th>\n",
       "      <th></th>\n",
       "      <th></th>\n",
       "      <th></th>\n",
       "      <th></th>\n",
       "      <th></th>\n",
       "      <th></th>\n",
       "      <th></th>\n",
       "      <th></th>\n",
       "      <th></th>\n",
       "    </tr>\n",
       "  </thead>\n",
       "  <tbody>\n",
       "    <tr>\n",
       "      <th rowspan=\"5\" valign=\"top\">8</th>\n",
       "      <th>0.000000</th>\n",
       "      <td>NaN</td>\n",
       "      <td>NaN</td>\n",
       "      <td>NaN</td>\n",
       "      <td>NaN</td>\n",
       "      <td>NaN</td>\n",
       "      <td>NaN</td>\n",
       "      <td>NaN</td>\n",
       "      <td>NaN</td>\n",
       "      <td>NaN</td>\n",
       "      <td>NaN</td>\n",
       "      <td>...</td>\n",
       "      <td>NaN</td>\n",
       "      <td>NaN</td>\n",
       "      <td>NaN</td>\n",
       "      <td>NaN</td>\n",
       "      <td>NaN</td>\n",
       "      <td>NaN</td>\n",
       "      <td>NaN</td>\n",
       "      <td>25.0</td>\n",
       "      <td>NaN</td>\n",
       "      <td>0.250000</td>\n",
       "    </tr>\n",
       "    <tr>\n",
       "      <th>0.250000</th>\n",
       "      <td>NaN</td>\n",
       "      <td>NaN</td>\n",
       "      <td>NaN</td>\n",
       "      <td>NaN</td>\n",
       "      <td>NaN</td>\n",
       "      <td>NaN</td>\n",
       "      <td>NaN</td>\n",
       "      <td>NaN</td>\n",
       "      <td>NaN</td>\n",
       "      <td>NaN</td>\n",
       "      <td>...</td>\n",
       "      <td>NaN</td>\n",
       "      <td>NaN</td>\n",
       "      <td>NaN</td>\n",
       "      <td>NaN</td>\n",
       "      <td>NaN</td>\n",
       "      <td>NaN</td>\n",
       "      <td>NaN</td>\n",
       "      <td>NaN</td>\n",
       "      <td>NaN</td>\n",
       "      <td>0.250000</td>\n",
       "    </tr>\n",
       "    <tr>\n",
       "      <th>0.500000</th>\n",
       "      <td>NaN</td>\n",
       "      <td>NaN</td>\n",
       "      <td>NaN</td>\n",
       "      <td>NaN</td>\n",
       "      <td>NaN</td>\n",
       "      <td>NaN</td>\n",
       "      <td>NaN</td>\n",
       "      <td>NaN</td>\n",
       "      <td>NaN</td>\n",
       "      <td>NaN</td>\n",
       "      <td>...</td>\n",
       "      <td>NaN</td>\n",
       "      <td>NaN</td>\n",
       "      <td>NaN</td>\n",
       "      <td>NaN</td>\n",
       "      <td>NaN</td>\n",
       "      <td>NaN</td>\n",
       "      <td>NaN</td>\n",
       "      <td>NaN</td>\n",
       "      <td>NaN</td>\n",
       "      <td>0.083333</td>\n",
       "    </tr>\n",
       "    <tr>\n",
       "      <th>0.583333</th>\n",
       "      <td>NaN</td>\n",
       "      <td>NaN</td>\n",
       "      <td>NaN</td>\n",
       "      <td>NaN</td>\n",
       "      <td>NaN</td>\n",
       "      <td>NaN</td>\n",
       "      <td>NaN</td>\n",
       "      <td>NaN</td>\n",
       "      <td>NaN</td>\n",
       "      <td>NaN</td>\n",
       "      <td>...</td>\n",
       "      <td>NaN</td>\n",
       "      <td>NaN</td>\n",
       "      <td>NaN</td>\n",
       "      <td>NaN</td>\n",
       "      <td>NaN</td>\n",
       "      <td>NaN</td>\n",
       "      <td>NaN</td>\n",
       "      <td>NaN</td>\n",
       "      <td>NaN</td>\n",
       "      <td>0.166667</td>\n",
       "    </tr>\n",
       "    <tr>\n",
       "      <th>0.750000</th>\n",
       "      <td>NaN</td>\n",
       "      <td>NaN</td>\n",
       "      <td>NaN</td>\n",
       "      <td>NaN</td>\n",
       "      <td>NaN</td>\n",
       "      <td>NaN</td>\n",
       "      <td>NaN</td>\n",
       "      <td>NaN</td>\n",
       "      <td>NaN</td>\n",
       "      <td>NaN</td>\n",
       "      <td>...</td>\n",
       "      <td>NaN</td>\n",
       "      <td>NaN</td>\n",
       "      <td>NaN</td>\n",
       "      <td>5.0</td>\n",
       "      <td>NaN</td>\n",
       "      <td>NaN</td>\n",
       "      <td>NaN</td>\n",
       "      <td>NaN</td>\n",
       "      <td>NaN</td>\n",
       "      <td>0.633333</td>\n",
       "    </tr>\n",
       "    <tr>\n",
       "      <th>...</th>\n",
       "      <th>...</th>\n",
       "      <td>...</td>\n",
       "      <td>...</td>\n",
       "      <td>...</td>\n",
       "      <td>...</td>\n",
       "      <td>...</td>\n",
       "      <td>...</td>\n",
       "      <td>...</td>\n",
       "      <td>...</td>\n",
       "      <td>...</td>\n",
       "      <td>...</td>\n",
       "      <td>...</td>\n",
       "      <td>...</td>\n",
       "      <td>...</td>\n",
       "      <td>...</td>\n",
       "      <td>...</td>\n",
       "      <td>...</td>\n",
       "      <td>...</td>\n",
       "      <td>...</td>\n",
       "      <td>...</td>\n",
       "      <td>...</td>\n",
       "      <td>...</td>\n",
       "    </tr>\n",
       "    <tr>\n",
       "      <th rowspan=\"5\" valign=\"top\">16259</th>\n",
       "      <th>87.000000</th>\n",
       "      <td>NaN</td>\n",
       "      <td>NaN</td>\n",
       "      <td>NaN</td>\n",
       "      <td>NaN</td>\n",
       "      <td>NaN</td>\n",
       "      <td>NaN</td>\n",
       "      <td>NaN</td>\n",
       "      <td>NaN</td>\n",
       "      <td>NaN</td>\n",
       "      <td>NaN</td>\n",
       "      <td>...</td>\n",
       "      <td>NaN</td>\n",
       "      <td>NaN</td>\n",
       "      <td>NaN</td>\n",
       "      <td>NaN</td>\n",
       "      <td>NaN</td>\n",
       "      <td>NaN</td>\n",
       "      <td>NaN</td>\n",
       "      <td>NaN</td>\n",
       "      <td>NaN</td>\n",
       "      <td>0.083333</td>\n",
       "    </tr>\n",
       "    <tr>\n",
       "      <th>87.083336</th>\n",
       "      <td>NaN</td>\n",
       "      <td>NaN</td>\n",
       "      <td>NaN</td>\n",
       "      <td>NaN</td>\n",
       "      <td>NaN</td>\n",
       "      <td>NaN</td>\n",
       "      <td>NaN</td>\n",
       "      <td>NaN</td>\n",
       "      <td>NaN</td>\n",
       "      <td>NaN</td>\n",
       "      <td>...</td>\n",
       "      <td>NaN</td>\n",
       "      <td>NaN</td>\n",
       "      <td>NaN</td>\n",
       "      <td>NaN</td>\n",
       "      <td>NaN</td>\n",
       "      <td>NaN</td>\n",
       "      <td>NaN</td>\n",
       "      <td>NaN</td>\n",
       "      <td>NaN</td>\n",
       "      <td>0.583333</td>\n",
       "    </tr>\n",
       "    <tr>\n",
       "      <th>87.666664</th>\n",
       "      <td>NaN</td>\n",
       "      <td>NaN</td>\n",
       "      <td>NaN</td>\n",
       "      <td>NaN</td>\n",
       "      <td>NaN</td>\n",
       "      <td>NaN</td>\n",
       "      <td>NaN</td>\n",
       "      <td>NaN</td>\n",
       "      <td>NaN</td>\n",
       "      <td>NaN</td>\n",
       "      <td>...</td>\n",
       "      <td>NaN</td>\n",
       "      <td>NaN</td>\n",
       "      <td>NaN</td>\n",
       "      <td>NaN</td>\n",
       "      <td>NaN</td>\n",
       "      <td>NaN</td>\n",
       "      <td>NaN</td>\n",
       "      <td>NaN</td>\n",
       "      <td>NaN</td>\n",
       "      <td>0.333333</td>\n",
       "    </tr>\n",
       "    <tr>\n",
       "      <th>88.000000</th>\n",
       "      <td>NaN</td>\n",
       "      <td>NaN</td>\n",
       "      <td>NaN</td>\n",
       "      <td>NaN</td>\n",
       "      <td>NaN</td>\n",
       "      <td>NaN</td>\n",
       "      <td>NaN</td>\n",
       "      <td>NaN</td>\n",
       "      <td>NaN</td>\n",
       "      <td>NaN</td>\n",
       "      <td>...</td>\n",
       "      <td>NaN</td>\n",
       "      <td>NaN</td>\n",
       "      <td>NaN</td>\n",
       "      <td>3.0</td>\n",
       "      <td>NaN</td>\n",
       "      <td>NaN</td>\n",
       "      <td>NaN</td>\n",
       "      <td>NaN</td>\n",
       "      <td>NaN</td>\n",
       "      <td>1.000000</td>\n",
       "    </tr>\n",
       "    <tr>\n",
       "      <th>89.000000</th>\n",
       "      <td>NaN</td>\n",
       "      <td>NaN</td>\n",
       "      <td>NaN</td>\n",
       "      <td>NaN</td>\n",
       "      <td>NaN</td>\n",
       "      <td>NaN</td>\n",
       "      <td>NaN</td>\n",
       "      <td>NaN</td>\n",
       "      <td>NaN</td>\n",
       "      <td>NaN</td>\n",
       "      <td>...</td>\n",
       "      <td>NaN</td>\n",
       "      <td>NaN</td>\n",
       "      <td>NaN</td>\n",
       "      <td>NaN</td>\n",
       "      <td>NaN</td>\n",
       "      <td>NaN</td>\n",
       "      <td>NaN</td>\n",
       "      <td>NaN</td>\n",
       "      <td>NaN</td>\n",
       "      <td>0.000000</td>\n",
       "    </tr>\n",
       "  </tbody>\n",
       "</table>\n",
       "<p>1113529 rows × 265 columns</p>\n",
       "</div>"
      ],
      "text/plain": [
       "                          ABG Base excess (mEq/L)  ABG FiO2  ABG HCO3 (mEq/L)  \\\n",
       "encounterID absoluteTime                                                        \n",
       "8           0.000000                          NaN       NaN               NaN   \n",
       "            0.250000                          NaN       NaN               NaN   \n",
       "            0.500000                          NaN       NaN               NaN   \n",
       "            0.583333                          NaN       NaN               NaN   \n",
       "            0.750000                          NaN       NaN               NaN   \n",
       "...                                           ...       ...               ...   \n",
       "16259       87.000000                         NaN       NaN               NaN   \n",
       "            87.083336                         NaN       NaN               NaN   \n",
       "            87.666664                         NaN       NaN               NaN   \n",
       "            88.000000                         NaN       NaN               NaN   \n",
       "            89.000000                         NaN       NaN               NaN   \n",
       "\n",
       "                          ABG O2 sat (%)  ABG PCO2 (mmHg)  ABG PO2 (mmHg)  \\\n",
       "encounterID absoluteTime                                                    \n",
       "8           0.000000                 NaN              NaN             NaN   \n",
       "            0.250000                 NaN              NaN             NaN   \n",
       "            0.500000                 NaN              NaN             NaN   \n",
       "            0.583333                 NaN              NaN             NaN   \n",
       "            0.750000                 NaN              NaN             NaN   \n",
       "...                                  ...              ...             ...   \n",
       "16259       87.000000                NaN              NaN             NaN   \n",
       "            87.083336                NaN              NaN             NaN   \n",
       "            87.666664                NaN              NaN             NaN   \n",
       "            88.000000                NaN              NaN             NaN   \n",
       "            89.000000                NaN              NaN             NaN   \n",
       "\n",
       "                          ABG TCO2 (mEq/L)  ABG pH  ALT (SGPT) (units/L)  \\\n",
       "encounterID absoluteTime                                                   \n",
       "8           0.000000                   NaN     NaN                   NaN   \n",
       "            0.250000                   NaN     NaN                   NaN   \n",
       "            0.500000                   NaN     NaN                   NaN   \n",
       "            0.583333                   NaN     NaN                   NaN   \n",
       "            0.750000                   NaN     NaN                   NaN   \n",
       "...                                    ...     ...                   ...   \n",
       "16259       87.000000                  NaN     NaN                   NaN   \n",
       "            87.083336                  NaN     NaN                   NaN   \n",
       "            87.666664                  NaN     NaN                   NaN   \n",
       "            88.000000                  NaN     NaN                   NaN   \n",
       "            89.000000                  NaN     NaN                   NaN   \n",
       "\n",
       "                          AST (SGOT) (units/L)  ...  Vasopressin  Vecuronium  \\\n",
       "encounterID absoluteTime                        ...                            \n",
       "8           0.000000                       NaN  ...          NaN         NaN   \n",
       "            0.250000                       NaN  ...          NaN         NaN   \n",
       "            0.500000                       NaN  ...          NaN         NaN   \n",
       "            0.583333                       NaN  ...          NaN         NaN   \n",
       "            0.750000                       NaN  ...          NaN         NaN   \n",
       "...                                        ...  ...          ...         ...   \n",
       "16259       87.000000                      NaN  ...          NaN         NaN   \n",
       "            87.083336                      NaN  ...          NaN         NaN   \n",
       "            87.666664                      NaN  ...          NaN         NaN   \n",
       "            88.000000                      NaN  ...          NaN         NaN   \n",
       "            89.000000                      NaN  ...          NaN         NaN   \n",
       "\n",
       "                          Ventilator rate (bpm)  VerbalResponse  Vitamin E  \\\n",
       "encounterID absoluteTime                                                     \n",
       "8           0.000000                        NaN             NaN        NaN   \n",
       "            0.250000                        NaN             NaN        NaN   \n",
       "            0.500000                        NaN             NaN        NaN   \n",
       "            0.583333                        NaN             NaN        NaN   \n",
       "            0.750000                        NaN             5.0        NaN   \n",
       "...                                         ...             ...        ...   \n",
       "16259       87.000000                       NaN             NaN        NaN   \n",
       "            87.083336                       NaN             NaN        NaN   \n",
       "            87.666664                       NaN             NaN        NaN   \n",
       "            88.000000                       NaN             3.0        NaN   \n",
       "            89.000000                       NaN             NaN        NaN   \n",
       "\n",
       "                          Volume Tidal  Voriconazole  Weight  \\\n",
       "encounterID absoluteTime                                       \n",
       "8           0.000000               NaN           NaN    25.0   \n",
       "            0.250000               NaN           NaN     NaN   \n",
       "            0.500000               NaN           NaN     NaN   \n",
       "            0.583333               NaN           NaN     NaN   \n",
       "            0.750000               NaN           NaN     NaN   \n",
       "...                                ...           ...     ...   \n",
       "16259       87.000000              NaN           NaN     NaN   \n",
       "            87.083336              NaN           NaN     NaN   \n",
       "            87.666664              NaN           NaN     NaN   \n",
       "            88.000000              NaN           NaN     NaN   \n",
       "            89.000000              NaN           NaN     NaN   \n",
       "\n",
       "                          White blood cell count (K/uL)    deltat  \n",
       "encounterID absoluteTime                                           \n",
       "8           0.000000                                NaN  0.250000  \n",
       "            0.250000                                NaN  0.250000  \n",
       "            0.500000                                NaN  0.083333  \n",
       "            0.583333                                NaN  0.166667  \n",
       "            0.750000                                NaN  0.633333  \n",
       "...                                                 ...       ...  \n",
       "16259       87.000000                               NaN  0.083333  \n",
       "            87.083336                               NaN  0.583333  \n",
       "            87.666664                               NaN  0.333333  \n",
       "            88.000000                               NaN  1.000000  \n",
       "            89.000000                               NaN  0.000000  \n",
       "\n",
       "[1113529 rows x 265 columns]"
      ]
     },
     "execution_count": 7,
     "metadata": {},
     "output_type": "execute_result"
    }
   ],
   "source": [
    "X_train"
   ]
  },
  {
   "cell_type": "markdown",
   "metadata": {},
   "source": [
    "Notice here that there are 265 measurement variables (columns) in total.  We could also ask directly using `len(X_train.columns)`.<br>\n",
    "The data imported by is a multi-index DataFrame where index \"level 0\" is the unique patient encounter identifier (`encounterID`) and index \"level 1\" is the time of each observation in units of hours since the first observation (`absoluteTime`)."
   ]
  },
  {
   "cell_type": "markdown",
   "metadata": {},
   "source": [
    "Have a quick look at the label data for each patient encounter.  We see it follows the same indexing, but only contains a single binary value for each observation."
   ]
  },
  {
   "cell_type": "code",
   "execution_count": 8,
   "metadata": {},
   "outputs": [
    {
     "data": {
      "text/html": [
       "<div>\n",
       "<style scoped>\n",
       "    .dataframe tbody tr th:only-of-type {\n",
       "        vertical-align: middle;\n",
       "    }\n",
       "\n",
       "    .dataframe tbody tr th {\n",
       "        vertical-align: top;\n",
       "    }\n",
       "\n",
       "    .dataframe thead th {\n",
       "        text-align: right;\n",
       "    }\n",
       "</style>\n",
       "<table border=\"1\" class=\"dataframe\">\n",
       "  <thead>\n",
       "    <tr style=\"text-align: right;\">\n",
       "      <th></th>\n",
       "      <th></th>\n",
       "      <th>mortalityResponse</th>\n",
       "    </tr>\n",
       "    <tr>\n",
       "      <th>encounterID</th>\n",
       "      <th>absoluteTime</th>\n",
       "      <th></th>\n",
       "    </tr>\n",
       "  </thead>\n",
       "  <tbody>\n",
       "    <tr>\n",
       "      <th rowspan=\"5\" valign=\"top\">8</th>\n",
       "      <th>0.000000</th>\n",
       "      <td>1</td>\n",
       "    </tr>\n",
       "    <tr>\n",
       "      <th>0.250000</th>\n",
       "      <td>1</td>\n",
       "    </tr>\n",
       "    <tr>\n",
       "      <th>0.500000</th>\n",
       "      <td>1</td>\n",
       "    </tr>\n",
       "    <tr>\n",
       "      <th>0.583333</th>\n",
       "      <td>1</td>\n",
       "    </tr>\n",
       "    <tr>\n",
       "      <th>0.750000</th>\n",
       "      <td>1</td>\n",
       "    </tr>\n",
       "    <tr>\n",
       "      <th>...</th>\n",
       "      <th>...</th>\n",
       "      <td>...</td>\n",
       "    </tr>\n",
       "    <tr>\n",
       "      <th rowspan=\"5\" valign=\"top\">16259</th>\n",
       "      <th>87.000000</th>\n",
       "      <td>1</td>\n",
       "    </tr>\n",
       "    <tr>\n",
       "      <th>87.083336</th>\n",
       "      <td>1</td>\n",
       "    </tr>\n",
       "    <tr>\n",
       "      <th>87.666664</th>\n",
       "      <td>1</td>\n",
       "    </tr>\n",
       "    <tr>\n",
       "      <th>88.000000</th>\n",
       "      <td>1</td>\n",
       "    </tr>\n",
       "    <tr>\n",
       "      <th>89.000000</th>\n",
       "      <td>1</td>\n",
       "    </tr>\n",
       "  </tbody>\n",
       "</table>\n",
       "<p>1113529 rows × 1 columns</p>\n",
       "</div>"
      ],
      "text/plain": [
       "                          mortalityResponse\n",
       "encounterID absoluteTime                   \n",
       "8           0.000000                      1\n",
       "            0.250000                      1\n",
       "            0.500000                      1\n",
       "            0.583333                      1\n",
       "            0.750000                      1\n",
       "...                                     ...\n",
       "16259       87.000000                     1\n",
       "            87.083336                     1\n",
       "            87.666664                     1\n",
       "            88.000000                     1\n",
       "            89.000000                     1\n",
       "\n",
       "[1113529 rows x 1 columns]"
      ]
     },
     "execution_count": 8,
     "metadata": {},
     "output_type": "execute_result"
    }
   ],
   "source": [
    "y_train"
   ]
  },
  {
   "cell_type": "markdown",
   "metadata": {},
   "source": [
    "<a name='01_single'></a>\n",
    "### 1.3.1 Example: View Data from a Single Encounter"
   ]
  },
  {
   "cell_type": "markdown",
   "metadata": {},
   "source": [
    "We can look more closely at a single patient visit by specifying the `encounterID` \"level 0\" index.  To extract just these values, try the following:"
   ]
  },
  {
   "cell_type": "code",
   "execution_count": 9,
   "metadata": {},
   "outputs": [
    {
     "data": {
      "text/plain": [
       "Int64Index([    8,    11,    13,    15,    18,    20,    21,    23,    25,\n",
       "               27,\n",
       "            ...\n",
       "            16233, 16236, 16241, 16243, 16244, 16248, 16250, 16254, 16255,\n",
       "            16259],\n",
       "           dtype='int64', name='encounterID', length=5000)"
      ]
     },
     "execution_count": 9,
     "metadata": {},
     "output_type": "execute_result"
    }
   ],
   "source": [
    "X_train.index.levels[0]"
   ]
  },
  {
   "cell_type": "markdown",
   "metadata": {},
   "source": [
    "The _pandas_ DataFrame is easily converted to a regular Python list using `list()`, as shown in the code following code block.  To demonstrate how to manipulate DataFrame objects, we will select a random patient encounter and extract specific variables.  Run the next cell a few times to get a feel for the variety of data associated with various random patients:"
   ]
  },
  {
   "cell_type": "code",
   "execution_count": 10,
   "metadata": {},
   "outputs": [
    {
     "name": "stdout",
     "output_type": "stream",
     "text": [
      "encounterID = 15886\n",
      "number of observations = 1424\n",
      "max absoluteTime value = 766.25 hours\n"
     ]
    },
    {
     "data": {
      "text/html": [
       "<div>\n",
       "<style scoped>\n",
       "    .dataframe tbody tr th:only-of-type {\n",
       "        vertical-align: middle;\n",
       "    }\n",
       "\n",
       "    .dataframe tbody tr th {\n",
       "        vertical-align: top;\n",
       "    }\n",
       "\n",
       "    .dataframe thead th {\n",
       "        text-align: right;\n",
       "    }\n",
       "</style>\n",
       "<table border=\"1\" class=\"dataframe\">\n",
       "  <thead>\n",
       "    <tr style=\"text-align: right;\">\n",
       "      <th></th>\n",
       "      <th>Age</th>\n",
       "      <th>Heart rate (bpm)</th>\n",
       "      <th>PulseOximetry</th>\n",
       "      <th>Weight</th>\n",
       "      <th>SystolicBP</th>\n",
       "      <th>DiastolicBP</th>\n",
       "      <th>Respiratory rate (bpm)</th>\n",
       "      <th>MotorResponse</th>\n",
       "      <th>Capillary refill rate (sec)</th>\n",
       "    </tr>\n",
       "    <tr>\n",
       "      <th>absoluteTime</th>\n",
       "      <th></th>\n",
       "      <th></th>\n",
       "      <th></th>\n",
       "      <th></th>\n",
       "      <th></th>\n",
       "      <th></th>\n",
       "      <th></th>\n",
       "      <th></th>\n",
       "      <th></th>\n",
       "    </tr>\n",
       "  </thead>\n",
       "  <tbody>\n",
       "    <tr>\n",
       "      <th>0.000000</th>\n",
       "      <td>0.152692</td>\n",
       "      <td>138.0</td>\n",
       "      <td>100.0</td>\n",
       "      <td>3.1</td>\n",
       "      <td>NaN</td>\n",
       "      <td>NaN</td>\n",
       "      <td>34.0</td>\n",
       "      <td>6.0</td>\n",
       "      <td>2.0</td>\n",
       "    </tr>\n",
       "    <tr>\n",
       "      <th>0.250000</th>\n",
       "      <td>0.152720</td>\n",
       "      <td>136.0</td>\n",
       "      <td>100.0</td>\n",
       "      <td>NaN</td>\n",
       "      <td>78.0</td>\n",
       "      <td>40.0</td>\n",
       "      <td>34.0</td>\n",
       "      <td>NaN</td>\n",
       "      <td>NaN</td>\n",
       "    </tr>\n",
       "    <tr>\n",
       "      <th>0.333333</th>\n",
       "      <td>0.152730</td>\n",
       "      <td>NaN</td>\n",
       "      <td>NaN</td>\n",
       "      <td>NaN</td>\n",
       "      <td>NaN</td>\n",
       "      <td>NaN</td>\n",
       "      <td>NaN</td>\n",
       "      <td>NaN</td>\n",
       "      <td>NaN</td>\n",
       "    </tr>\n",
       "    <tr>\n",
       "      <th>0.416667</th>\n",
       "      <td>0.152739</td>\n",
       "      <td>NaN</td>\n",
       "      <td>NaN</td>\n",
       "      <td>NaN</td>\n",
       "      <td>NaN</td>\n",
       "      <td>NaN</td>\n",
       "      <td>NaN</td>\n",
       "      <td>6.0</td>\n",
       "      <td>2.0</td>\n",
       "    </tr>\n",
       "    <tr>\n",
       "      <th>0.750000</th>\n",
       "      <td>0.152777</td>\n",
       "      <td>NaN</td>\n",
       "      <td>NaN</td>\n",
       "      <td>NaN</td>\n",
       "      <td>NaN</td>\n",
       "      <td>NaN</td>\n",
       "      <td>NaN</td>\n",
       "      <td>NaN</td>\n",
       "      <td>NaN</td>\n",
       "    </tr>\n",
       "    <tr>\n",
       "      <th>...</th>\n",
       "      <td>...</td>\n",
       "      <td>...</td>\n",
       "      <td>...</td>\n",
       "      <td>...</td>\n",
       "      <td>...</td>\n",
       "      <td>...</td>\n",
       "      <td>...</td>\n",
       "      <td>...</td>\n",
       "      <td>...</td>\n",
       "    </tr>\n",
       "    <tr>\n",
       "      <th>762.250000</th>\n",
       "      <td>0.239647</td>\n",
       "      <td>130.0</td>\n",
       "      <td>99.0</td>\n",
       "      <td>NaN</td>\n",
       "      <td>90.0</td>\n",
       "      <td>57.0</td>\n",
       "      <td>41.0</td>\n",
       "      <td>NaN</td>\n",
       "      <td>NaN</td>\n",
       "    </tr>\n",
       "    <tr>\n",
       "      <th>763.250000</th>\n",
       "      <td>0.239761</td>\n",
       "      <td>137.0</td>\n",
       "      <td>100.0</td>\n",
       "      <td>NaN</td>\n",
       "      <td>97.0</td>\n",
       "      <td>75.0</td>\n",
       "      <td>36.0</td>\n",
       "      <td>NaN</td>\n",
       "      <td>NaN</td>\n",
       "    </tr>\n",
       "    <tr>\n",
       "      <th>764.250000</th>\n",
       "      <td>0.239875</td>\n",
       "      <td>120.0</td>\n",
       "      <td>100.0</td>\n",
       "      <td>3.8</td>\n",
       "      <td>72.0</td>\n",
       "      <td>52.0</td>\n",
       "      <td>40.0</td>\n",
       "      <td>6.0</td>\n",
       "      <td>3.0</td>\n",
       "    </tr>\n",
       "    <tr>\n",
       "      <th>765.250000</th>\n",
       "      <td>0.239989</td>\n",
       "      <td>118.0</td>\n",
       "      <td>100.0</td>\n",
       "      <td>NaN</td>\n",
       "      <td>73.0</td>\n",
       "      <td>37.0</td>\n",
       "      <td>61.0</td>\n",
       "      <td>NaN</td>\n",
       "      <td>NaN</td>\n",
       "    </tr>\n",
       "    <tr>\n",
       "      <th>766.250000</th>\n",
       "      <td>0.240103</td>\n",
       "      <td>123.0</td>\n",
       "      <td>100.0</td>\n",
       "      <td>NaN</td>\n",
       "      <td>91.0</td>\n",
       "      <td>42.0</td>\n",
       "      <td>35.0</td>\n",
       "      <td>NaN</td>\n",
       "      <td>NaN</td>\n",
       "    </tr>\n",
       "  </tbody>\n",
       "</table>\n",
       "<p>1424 rows × 9 columns</p>\n",
       "</div>"
      ],
      "text/plain": [
       "                   Age  Heart rate (bpm)  PulseOximetry  Weight  SystolicBP  \\\n",
       "absoluteTime                                                                  \n",
       "0.000000      0.152692             138.0          100.0     3.1         NaN   \n",
       "0.250000      0.152720             136.0          100.0     NaN        78.0   \n",
       "0.333333      0.152730               NaN            NaN     NaN         NaN   \n",
       "0.416667      0.152739               NaN            NaN     NaN         NaN   \n",
       "0.750000      0.152777               NaN            NaN     NaN         NaN   \n",
       "...                ...               ...            ...     ...         ...   \n",
       "762.250000    0.239647             130.0           99.0     NaN        90.0   \n",
       "763.250000    0.239761             137.0          100.0     NaN        97.0   \n",
       "764.250000    0.239875             120.0          100.0     3.8        72.0   \n",
       "765.250000    0.239989             118.0          100.0     NaN        73.0   \n",
       "766.250000    0.240103             123.0          100.0     NaN        91.0   \n",
       "\n",
       "              DiastolicBP  Respiratory rate (bpm)  MotorResponse  \\\n",
       "absoluteTime                                                       \n",
       "0.000000              NaN                    34.0            6.0   \n",
       "0.250000             40.0                    34.0            NaN   \n",
       "0.333333              NaN                     NaN            NaN   \n",
       "0.416667              NaN                     NaN            6.0   \n",
       "0.750000              NaN                     NaN            NaN   \n",
       "...                   ...                     ...            ...   \n",
       "762.250000           57.0                    41.0            NaN   \n",
       "763.250000           75.0                    36.0            NaN   \n",
       "764.250000           52.0                    40.0            6.0   \n",
       "765.250000           37.0                    61.0            NaN   \n",
       "766.250000           42.0                    35.0            NaN   \n",
       "\n",
       "              Capillary refill rate (sec)  \n",
       "absoluteTime                               \n",
       "0.000000                              2.0  \n",
       "0.250000                              NaN  \n",
       "0.333333                              NaN  \n",
       "0.416667                              2.0  \n",
       "0.750000                              NaN  \n",
       "...                                   ...  \n",
       "762.250000                            NaN  \n",
       "763.250000                            NaN  \n",
       "764.250000                            3.0  \n",
       "765.250000                            NaN  \n",
       "766.250000                            NaN  \n",
       "\n",
       "[1424 rows x 9 columns]"
      ]
     },
     "execution_count": 10,
     "metadata": {},
     "output_type": "execute_result"
    }
   ],
   "source": [
    "# Select a random patient encounterID from a list of all the encounterID values\n",
    "eIdx = random.choice(list(X_train.index.levels[0]))\n",
    "\n",
    "# Specify a few variables to look at\n",
    "variables = [\n",
    "    'Age','Heart rate (bpm)','PulseOximetry','Weight',\n",
    "    'SystolicBP','DiastolicBP','Respiratory rate (bpm)',\n",
    "    'MotorResponse','Capillary refill rate (sec)'\n",
    "]\n",
    "\n",
    "# Note that the full list of variables can be constructed using\n",
    "# list(X_train.columns.values)\n",
    "\n",
    "# Have a look at the variables for the selected patient\n",
    "print('encounterID = {}'.format(eIdx))\n",
    "print('number of observations = {}'.format(X_train.loc[eIdx].index.shape[0]))\n",
    "print('max absoluteTime value = {} hours'.format(X_train.loc[eIdx].index[-1]))\n",
    "X_train.loc[eIdx, variables]"
   ]
  },
  {
   "cell_type": "markdown",
   "metadata": {},
   "source": [
    "The number of rows tells us how many observations are included in the patient encounter, and the final `absoluteTime` indicates how many hours long the entire encounter lasted."
   ]
  },
  {
   "cell_type": "markdown",
   "metadata": {},
   "source": [
    "To get a look at a variable for a particular patient encounter simply extract that variable from an encounter and plot it using the _pandas_ plot function."
   ]
  },
  {
   "cell_type": "code",
   "execution_count": 11,
   "metadata": {},
   "outputs": [
    {
     "data": {
      "image/png": "[encoded data removed]",
      "text/plain": [
       "<Figure size 432x288 with 1 Axes>"
      ]
     },
     "metadata": {
      "needs_background": "light"
     },
     "output_type": "display_data"
    }
   ],
   "source": [
    "X_train.loc[eIdx, \"Heart rate (bpm)\"].plot()\n",
    "plt.ylabel(\"Heart rate (bpm)\")\n",
    "plt.xlabel(\"Hours since first encounter\")\n",
    "plt.show()"
   ]
  },
  {
   "cell_type": "markdown",
   "metadata": {},
   "source": [
    "<a name=\"01_ex_nobs\"></a>\n",
    "### 1.3.2 Exercise: Observation Count Histogram"
   ]
  },
  {
   "cell_type": "markdown",
   "metadata": {},
   "source": [
    "We might want to know more about the variability of the time series data. For example, how many observations are there in an encounter typically?  A histogram will provide a good visualization of how the variability in observations per patient is distributed.  To create a histogram we need to:\n",
    "\n",
    "1. Create a list of `encounterID` values\n",
    "2. Create a list of observation counts for each of these encounters\n",
    "3. Create a histogram using MatplotLib  "
   ]
  },
  {
   "cell_type": "code",
   "execution_count": 28,
   "metadata": {},
   "outputs": [
    {
     "name": "stdout",
     "output_type": "stream",
     "text": [
      "eIdx_list created of length 5000 (Sanity check: this length should be 5000)\n"
     ]
    }
   ],
   "source": [
    "# TODO Step 1 - Create a list of `encounterID` values\n",
    "# Hint: In the single encounter example, we created this list and selected a random choice from it\n",
    "eIdx_list = X_train.index.levels[0]\n",
    "print('eIdx_list created of length {} (Sanity check: this length should be 5000)'.format(len(eIdx_list)))"
   ]
  },
  {
   "cell_type": "code",
   "execution_count": 30,
   "metadata": {},
   "outputs": [
    {
     "name": "stdout",
     "output_type": "stream",
     "text": [
      "list of observation counts created of length 5000 (Sanity check: this length should also be 5000)\n"
     ]
    }
   ],
   "source": [
    "# Step 2 - Create a list of observation counts for each of these encounters\n",
    "# The number of observations in each encounter can be extracted as the shape of each individual encounter\n",
    "nobs_list = [X_train.loc[ix].index.shape[0] for ix in eIdx_list]\n",
    "print('list of observation counts created of length {} (Sanity check: this length should also be 5000)'.format(len(nobs_list)))"
   ]
  },
  {
   "cell_type": "code",
   "execution_count": 31,
   "metadata": {},
   "outputs": [
    {
     "data": {
      "image/png": "[encoded data removed]",
      "text/plain": [
       "<Figure size 432x288 with 1 Axes>"
      ]
     },
     "metadata": {
      "needs_background": "light"
     },
     "output_type": "display_data"
    }
   ],
   "source": [
    "# Step 3 - Create a histogram using MatplotLib\n",
    "plt.hist(nobs_list,range=(0,1000))\n",
    "plt.title(\"Observations per Patient Encounter\")\n",
    "plt.show()"
   ]
  },
  {
   "cell_type": "markdown",
   "metadata": {},
   "source": [
    "If you've done created the initial eIdx list correctly, you should see a histogram (if not, check the [solution](#01_sol_nobs) below).  Now you can also check the mean and median counts using `np.mean()` and `np.median()` functions over the list. "
   ]
  },
  {
   "cell_type": "code",
   "execution_count": 32,
   "metadata": {},
   "outputs": [
    {
     "name": "stdout",
     "output_type": "stream",
     "text": [
      "The mean = 222.7058\n",
      "The median = 94.0\n"
     ]
    }
   ],
   "source": [
    "print('The mean = {}'.format(np.mean(nobs_list)))\n",
    "print('The median = {}'.format(np.median(nobs_list)))"
   ]
  },
  {
   "cell_type": "markdown",
   "metadata": {},
   "source": [
    "<a name='01_ex_time'></a>\n",
    "### 1.3.3 Exercise: Length of PICU Stay Histogram\n",
    "We can do a similar analysis to determine the observation timespan over all patient encounters.  Recall that the observation index `absoluteTime` is the cumulative time since admission to the PICU.  Therefore, the last `absoluteTime` value is the one we want to capture for each encounter.  Earlier in the section, we displayed this value for an individual encounter using `X_train.loc[eIdx].index[-1]`.  "
   ]
  },
  {
   "cell_type": "markdown",
   "metadata": {},
   "source": [
    "Give it a try.  You can always check the [solution](#01_solution_1.3.2) if you wish.\n",
    "\n",
    "1. Create a list of `encounterID` values\n",
    "2. Create a list of `absoluteTime` final for each encounter\n",
    "3. Create a histogram using MatplotLib  "
   ]
  },
  {
   "cell_type": "code",
   "execution_count": 33,
   "metadata": {},
   "outputs": [
    {
     "name": "stdout",
     "output_type": "stream",
     "text": [
      "eIdx_list created of length 5000 (Sanity check: this length should be 5000)\n"
     ]
    }
   ],
   "source": [
    "# TODO Step 1 - Create a list of `encounterID` values\n",
    "# Hint: Earlier in the section, we created this list and selected a random choice from it\n",
    "eIdx_list = X_train.index.levels[0]\n",
    "print('eIdx_list created of length {} (Sanity check: this length should be 5000)'.format(len(eIdx_list)))"
   ]
  },
  {
   "cell_type": "code",
   "execution_count": 34,
   "metadata": {},
   "outputs": [
    {
     "name": "stdout",
     "output_type": "stream",
     "text": [
      "timespan_list created of length 5000 (Sanity check: this length should be 5000)\n"
     ]
    }
   ],
   "source": [
    "# TODO Step 2 - Create a list of `absoluteTime` final for each encounter\n",
    "# Hint: Use a Python list comprehension over the eIdx_list\n",
    "timespan_list = [X_train.loc[eIdx].index[-1] for eIdx in eIdx_list] #FIXME\n",
    "print('timespan_list created of length {} (Sanity check: this length should be 5000)'.format(len(timespan_list)))"
   ]
  },
  {
   "cell_type": "code",
   "execution_count": 35,
   "metadata": {},
   "outputs": [
    {
     "data": {
      "image/png": "[encoded data removed]",
      "text/plain": [
       "<Figure size 432x288 with 1 Axes>"
      ]
     },
     "metadata": {
      "needs_background": "light"
     },
     "output_type": "display_data"
    }
   ],
   "source": [
    "# Step 3 - Create a histogram using MatplotLib\n",
    "plt.hist(timespan_list,range=(0,500))\n",
    "plt.title(\"Hours per Patient Encounter\")\n",
    "plt.show()"
   ]
  },
  {
   "cell_type": "markdown",
   "metadata": {},
   "source": [
    "If you've done created the initial eIdx list correctly, you should see a histogram (if not, check the [solution](#01_sol_time) below).  Now you can also check the mean and median counts using `np.mean()` and `np.median()` functions over the list. "
   ]
  },
  {
   "cell_type": "code",
   "execution_count": 36,
   "metadata": {},
   "outputs": [
    {
     "name": "stdout",
     "output_type": "stream",
     "text": [
      "The mean = 112.8358599603653\n",
      "The median = 51.5\n"
     ]
    }
   ],
   "source": [
    "print('The mean = {}'.format(np.mean(timespan_list)))\n",
    "print('The median = {}'.format(np.median(timespan_list)))"
   ]
  },
  {
   "cell_type": "markdown",
   "metadata": {},
   "source": [
    "<a name=\"01_save\"></a>\n",
    "## 1.4 Save a *pandas* DataFrames"
   ]
  },
  {
   "cell_type": "markdown",
   "metadata": {},
   "source": [
    "Before moving to the next notebook, save the *pandas* DataFrames to reload into the next notebook."
   ]
  },
  {
   "cell_type": "code",
   "execution_count": 37,
   "metadata": {},
   "outputs": [],
   "source": [
    "# Save the DataFrame's for use in other notebooks\n",
    "X_train.to_pickle('X_train.pkl')\n",
    "y_train.to_pickle('y_train.pkl')\n",
    "X_valid.to_pickle('X_valid.pkl')\n",
    "y_valid.to_pickle('y_valid.pkl')"
   ]
  },
  {
   "cell_type": "markdown",
   "metadata": {},
   "source": [
    "<font color='green' size=10>Great job!</font><br>\n",
    "Now that we've loaded and visualized the data, we'll prepare it to train our model.  Move on to the [next notebook](02_PrepareData.ipynb)."
   ]
  },
  {
   "cell_type": "markdown",
   "metadata": {},
   "source": [
    "<a href=\"https://www.nvidia.com/dli\"> <img src=\"images/DLI Header.png\" alt=\"Header\" style=\"width: 400px;\"/> </a>\n",
    "\n",
    "<hr>"
   ]
  },
  {
   "cell_type": "markdown",
   "metadata": {},
   "source": [
    "<a name='01_solutions'></a>\n",
    "# Solutions\n",
    "<a name='01_sol_nobs'></a>\n",
    "### 1.3.2 Solution: Observation Count Histogram \n",
    "[Jump back to Exercise 1.3.2](#01_ex_nobs)"
   ]
  },
  {
   "cell_type": "code",
   "execution_count": null,
   "metadata": {},
   "outputs": [],
   "source": [
    "# TODO Step 1 - Create a list of `encounterID` values\n",
    "# Hint: In the single encounter example, we created this list and selected a random choice from it\n",
    "eIdx_list = X_train.index.levels[0] #FIXME\n",
    "print('eIdx_list created of length {} (Sanity check: this length should be 5000)'.format(len(eIdx_list)))"
   ]
  },
  {
   "cell_type": "code",
   "execution_count": null,
   "metadata": {},
   "outputs": [],
   "source": [
    "# Step 2 - Create a list of observation counts for each of these encounters\n",
    "# The number of observations in each encounter can be extracted as the shape of each individual encounter\n",
    "nobs_list = [X_train.loc[ix].index.shape[0] for ix in eIdx_list]\n",
    "print('list of observation counts created of length {} (Sanity check: this length should also be 5000)'.format(len(nobs_list)))"
   ]
  },
  {
   "cell_type": "code",
   "execution_count": null,
   "metadata": {},
   "outputs": [],
   "source": [
    "# Step 3 - Create a histogram using MatplotLib\n",
    "plt.hist(nobs_list,range=(0,1000))\n",
    "plt.title(\"Observations per Patient Encounter\")\n",
    "plt.show()"
   ]
  },
  {
   "cell_type": "markdown",
   "metadata": {},
   "source": [
    "<a name='01_sol_time'></a>\n",
    "### 1.3.3 Solution: Length of PICU Stay Histogram\n",
    "[Jump back to Exercise 1.3.3](#01_ex_time)"
   ]
  },
  {
   "cell_type": "code",
   "execution_count": null,
   "metadata": {},
   "outputs": [],
   "source": [
    "# TODO Step 1 - Create a list of `encounterID` values\n",
    "# Hint: Earlier in the section, we created this list and selected a random choice from it\n",
    "eIdx_list = X_train.index.levels[0] #FIXME\n",
    "print('eIdx_list created of length {} (Sanity check: this length should be 5000)'.format(len(eIdx_list)))"
   ]
  },
  {
   "cell_type": "code",
   "execution_count": null,
   "metadata": {},
   "outputs": [],
   "source": [
    "# TODO Step 2 - Create a list of `absoluteTime` final for each encounter\n",
    "# Hint: Use a Python list comprehension over the eIdx_list\n",
    "timespan_list = [X_train.loc[ix].index[-1] for ix in eIdx_list] #FIXME\n",
    "print('timespan_list created of length {} (Sanity check: this length should be 5000)'.format(len(timespan_list)))"
   ]
  },
  {
   "cell_type": "code",
   "execution_count": null,
   "metadata": {},
   "outputs": [],
   "source": [
    "# Step 3 - Create a histogram using MatplotLib\n",
    "plt.hist(timespan_list,range=(0,500))\n",
    "plt.title(\"Hours per Patient Encounter\")\n",
    "plt.show()"
   ]
  }
 ],
 "metadata": {
  "kernelspec": {
   "display_name": "Python 3",
   "language": "python",
   "name": "python3"
  },
  "language_info": {
   "codemirror_mode": {
    "name": "ipython",
    "version": 3
   },
   "file_extension": ".py",
   "mimetype": "text/x-python",
   "name": "python",
   "nbconvert_exporter": "python",
   "pygments_lexer": "ipython3",
   "version": "3.6.9"
  }
 },
 "nbformat": 4,
 "nbformat_minor": 4
}
