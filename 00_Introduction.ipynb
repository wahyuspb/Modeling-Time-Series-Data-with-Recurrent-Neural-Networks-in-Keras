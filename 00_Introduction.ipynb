{
 "cells": [
  {
   "cell_type": "markdown",
   "metadata": {},
   "source": [
    "<a href=\"https://www.nvidia.com/dli\"> <img src=\"images/DLI Header.png\" alt=\"Header\" style=\"width: 400px;\"/> </a>"
   ]
  },
  {
   "cell_type": "markdown",
   "metadata": {},
   "source": [
    "# Modeling Time Series Data with Recurrent Neural Networks in Keras\n",
    "\n",
    "The goal of this lab is to build an example deep neural network that can predict future outcomes based on **time series**, or sequential, data.  \n",
    "\n",
    "A time series is a series of data points, ordered in time. For complex systems, each data point will likely be **multivariate**, meaning there are multiple variables for each data point.  Examples of data sets with multivariate time series data are financial markets, air quality measurement, and health records.  In each case, the goal is to predict one of the variable values, such as a stock price, pollutant level, or patient outcome, based on the sequential dependence of past data.  \n",
    "\n",
    "In this lab, you'll build a deep neural network model to predict patient mortality from time series data contained in patient records. \n",
    "\n",
    "<img style=\"float: right;\" src=\"images/chlalogo.jpg\" width=\"500\">\n",
    "\n",
    "<br><br>\n",
    "The purpose of building such a model, is to provide an analytic framework that medical professionals can use to predict patient mortality at any time of interest. Such a solution provides essential feedback to clinicians when trying to assess the impact of treatment decisions, or raise early warning signs to flag at-risk patients in a busy hospital care setting.\n",
    "\n",
    "This project and patient **electronic health record (EHR)** data are provided by Children's Hospital Los Angeles (CHLA).\n",
    "\n"
   ]
  },
  {
   "cell_type": "markdown",
   "metadata": {},
   "source": [
    "## Table of Contents\n",
    "We will go through the following steps in this lab to recreate the CHLA project through a series of notebooks.  These steps are meant as a concrete example of a process you might follow when applying deep neural networks to your own time series data.  These steps do not represent an absolute or mechanical approach to using deep neural networks - every project will vary in approach.\n",
    "\n",
    "\n",
    "1. [Explore the Data with *pandas*](01_ExploreData.ipynb)<br>\n",
    "    You'll learn how to:\n",
    "    - Set Up the Environment<br>\n",
    "    - Load the Data with *pandas*<br>\n",
    "    - Visualize the Data\n",
    "    - Save a *pandas* DataFrame\n",
    "<br><br>\n",
    "2. [Prepare the Data with *pandas* and *NumPy*](02_PrepareData.ipynb)<br>\n",
    "    You'll learn how to:\n",
    "    - Normalize the Data<br>\n",
    "    - Fill Data Gaps<br>\n",
    "    - Pad Variable Length Sequences\n",
    "    - Save a *NumPy* Array\n",
    "<br><br>\n",
    "3. [Build a Time Series Data Model with *Keras*](03_BuildModel.ipynb)<br>\n",
    "    You'll learn how to:\n",
    "   - Design the LSTM Network Architecture<br>\n",
    "   - Train the Model<br>\n",
    "   - Evaluate the Model Using Validation Data<br>\n",
    "   - Visualize the Results<br>\n",
    "   - Compare Against Baselines: PRISM3 and PIM2\n"
   ]
  },
  {
   "cell_type": "markdown",
   "metadata": {},
   "source": [
    "### JupyterLab\n",
    "For this hands-on lab, we use [JupyterLab](https://jupyterlab.readthedocs.io/en/stable/) to manage our environment.  The [JupyterLab Interface](https://jupyterlab.readthedocs.io/en/stable/user/interface.html) is a dashboard that provides access to interactive iPython notebooks, as well as the folder structure of our environment and a terminal window into the Ubuntu operating system. The first view you'll see includes a **menu bar** at the top, a **file browser** in the **left sidebar**, and a **main work area** that is initially open to the \"Launcher\" page. \n",
    "\n",
    "<img src=\"images/jl_launcher.png\">\n",
    "\n",
    "The file browser can be navigated just like any other file explorer. A double click on any of the items will open a new tab with its content.\n",
    "\n",
    "The main work area includes tabbed views of open files that can be closed, moved, and edited as needed. \n",
    "\n",
    "The notebooks, including this one, consist of a series of content and code **cells**.  To execute code in a code cell, press `Shift+Enter` or the \"Run\" button in the menu bar above, while a cell is highlighted. Sometimes, a content cell will get switched to editing mode. Pressing `Shift+Enter` will switch it back to a readable form.\n",
    "\n",
    "Try executing the simple print statement in the cell below."
   ]
  },
  {
   "cell_type": "code",
   "execution_count": 1,
   "metadata": {},
   "outputs": [
    {
     "name": "stdout",
     "output_type": "stream",
     "text": [
      "This is just a simple print statement\n"
     ]
    }
   ],
   "source": [
    "# Highlight this cell and click [Shift+Enter] to execute\n",
    "print('This is just a simple print statement')"
   ]
  },
  {
   "cell_type": "markdown",
   "metadata": {},
   "source": [
    "<a href=\"https://www.nvidia.com/dli\"> <img src=\"images/DLI Header.png\" alt=\"Header\" style=\"width: 400px;\"/> </a>"
   ]
  }
 ],
 "metadata": {
  "kernelspec": {
   "display_name": "Python 3",
   "language": "python",
   "name": "python3"
  },
  "language_info": {
   "codemirror_mode": {
    "name": "ipython",
    "version": 3
   },
   "file_extension": ".py",
   "mimetype": "text/x-python",
   "name": "python",
   "nbconvert_exporter": "python",
   "pygments_lexer": "ipython3",
   "version": "3.6.9"
  }
 },
 "nbformat": 4,
 "nbformat_minor": 4
}
